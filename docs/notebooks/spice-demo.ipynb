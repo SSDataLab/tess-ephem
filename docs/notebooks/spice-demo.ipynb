{
 "cells": [
  {
   "cell_type": "markdown",
   "metadata": {},
   "source": [
    "# How to compute TESS asteroid ephemeris using Spice?\n",
    "\n",
    "This notebooks contains a snippet of code demonstrating how one can use the Spice Toolkit to compute the position of asteroids as seen from the vantage point of TESS."
   ]
  },
  {
   "cell_type": "markdown",
   "metadata": {},
   "source": [
    "## Step 1: Loading orbital elements\n",
    "\n",
    "For the purpose of this example, we define a minimalist `Target` class to hold the Sun-centered orbital elements of a target.  We also add a `Target.from_horizons()` method to load the elements for a target from JPL Horizons."
   ]
  },
  {
   "cell_type": "code",
   "execution_count": 1,
   "metadata": {},
   "outputs": [],
   "source": [
    "import attr\n",
    "from astroquery.jplhorizons import Horizons\n",
    "from astropy.time import Time\n",
    "from astropy import units as u\n",
    "from astropy.units import Quantity\n",
    "from astropy.coordinates import SkyCoord\n",
    "import spiceypy as spice\n",
    "\n",
    "# Standard gravitational parameter of the Sun (source: `gm_de431.tpc`)\n",
    "GM_SUN = Quantity(1.3271244004193938E+11, unit=\"km^3/s^2\")\n",
    "\n",
    "@attr.s\n",
    "class Target():\n",
    "    \"\"\"Data container holding the orbital elements of a minor planet target.\"\"\"\n",
    "    # Target name\n",
    "    name : str = attr.ib()\n",
    "    # Eccentricity\n",
    "    e : float = attr.ib()\n",
    "    # Semimajor axis\n",
    "    a : float = attr.ib()\n",
    "    # Inclination\n",
    "    incl : float = attr.ib()\n",
    "    # Longitude of the ascending node\n",
    "    node : float = attr.ib()\n",
    "    # Argument of periapsis\n",
    "    peri : float = attr.ib()\n",
    "    # Mean anomaly at epoch\n",
    "    m : float = attr.ib()\n",
    "    # Epoch i.e. reference time\n",
    "    epoch : float = attr.ib()\n",
    "\n",
    "    @property\n",
    "    def q(self):\n",
    "        \"\"\"Periapsis distance, i.e. (1-e)*a\"\"\"\n",
    "        return (1-self.e.value)*self.a\n",
    "      \n",
    "    @classmethod\n",
    "    def from_horizons(cls, id, epoch=None, location=\"@sun\"):\n",
    "        \"\"\"Load orbital elements from JPL Horizons.\n",
    "        \n",
    "        Parameters\n",
    "        ----------\n",
    "        id : str\n",
    "            Name, number, or designation of the object.\n",
    "        epoch : Time\n",
    "            Reference time for the osculating orbital elements.\n",
    "            If no epochs is provided, the current time is used.\n",
    "        location : str\n",
    "            JPL Horizons location code for the center body of the\n",
    "            orbital elements. Defaults to the Sun (\"500@10\").\n",
    "        \"\"\"\n",
    "        obj = Horizons(id=id, location=location, epochs=epoch)\n",
    "        el = obj.elements()\n",
    "        result = cls(name=id,\n",
    "                     e=u.Quantity(el['e'].quantity.value[0], unit=''),\n",
    "                     a=el['a'].quantity[0],\n",
    "                     incl=el['incl'].quantity[0],\n",
    "                     node=el['Omega'].quantity[0],\n",
    "                     peri=el['w'].quantity[0],\n",
    "                     m=el['M'].quantity[0],\n",
    "                     epoch=el['datetime_jd'].quantity[0])\n",
    "        result._elements = el\n",
    "        return result\n",
    "\n",
    "    def to_spice(self):\n",
    "        \"\"\"Returns the orbital elements in the array format required by SPICE.\"\"\"\n",
    "        # We could also use\n",
    "        # `epoch_et = spice.str2et(f\"JDTDB {self.epoch.value}\")`\n",
    "        # but we prefer using AstroPy tdb=>utc conversion to avoid\n",
    "        # having to load the spice leap second kernel in this class.\n",
    "        epoch_et = spice.str2et(Time(self.epoch.value, format='jd', scale='tdb').utc.iso)\n",
    "        elements = [self.q.to(\"km\").value,\n",
    "                    self.e.value,\n",
    "                    self.incl.to(\"rad\").value,\n",
    "                    self.node.to(\"rad\").value,\n",
    "                    self.peri.to(\"rad\").value,\n",
    "                    self.m.to(\"rad\").value,\n",
    "                    epoch_et,\n",
    "                    GM_SUN.value]\n",
    "        return elements"
   ]
  },
  {
   "cell_type": "markdown",
   "metadata": {},
   "source": [
    "**Example use:**"
   ]
  },
  {
   "cell_type": "code",
   "execution_count": 2,
   "metadata": {},
   "outputs": [
    {
     "data": {
      "text/plain": [
       "Target(name='Ceres', e=<Quantity 0.07686737>, a=<Quantity 2.76930498 AU>, incl=<Quantity 10.59130887 deg>, node=<Quantity 80.3012895 deg>, peri=<Quantity 73.81009657 deg>, m=<Quantity 129.99442539 deg>, epoch=<Quantity 2458848. d>)"
      ]
     },
     "execution_count": 2,
     "metadata": {},
     "output_type": "execute_result"
    }
   ],
   "source": [
    "epoch = Time(2458848.0, format='jd', scale='utc')\n",
    "targ = Target.from_horizons(\"Ceres\", epoch=epoch)\n",
    "targ"
   ]
  },
  {
   "cell_type": "markdown",
   "metadata": {},
   "source": [
    "## Step 2: Converting orbital elements to (ra, dec) ephemeris using Spice"
   ]
  },
  {
   "cell_type": "code",
   "execution_count": 3,
   "metadata": {},
   "outputs": [],
   "source": [
    "def get_viewing_vector(elements, et, location, correct_lt=True, correct_stelab=False):\n",
    "    \"\"\"Returns the ecliptic XYZ viewing vector pointing from the observer to the target.\"\"\"\n",
    "    # Load planetary positions\n",
    "    kernels = [\"de432s.bsp\", \"TESS_EPH_PRE_2YEAR_2018171_01.bsp\"]\n",
    "    spice.furnsh(kernels)\n",
    "\n",
    "    # Compute state vector Sun=>target\n",
    "    target_state = spice.conics(elements, et)\n",
    "    \n",
    "    # Compute state vector Sun=>observer\n",
    "    observer_state, _ = spice.spkezr(location, et, \"ECLIPJ2000\", \"NONE\", \"SUN\")\n",
    "    \n",
    "    # Apply one-way light time correction\n",
    "    if correct_lt:\n",
    "        # Compute distance observer=>target\n",
    "        dist = spice.vdist(observer_state[:3], target_state[:3])\n",
    "        light_time_correction = dist / spice.clight()\n",
    "        target_state = spice.conics(elements, et - light_time_correction)\n",
    "\n",
    "    # Compute vector observer=>target\n",
    "    observer2target = spice.vsubg(target_state, observer_state, 6)\n",
    "        \n",
    "    # Correct the vector for stellar aberration\n",
    "    if correct_stelab:\n",
    "        ssb2observer, _ = spice.spkezr(location, et, \"ECLIPJ2000\", \"NONE\", \"SOLAR SYSTEM BARYCENTER\")\n",
    "        observer2target[:3] = spice.stelab(observer2target[:3], ssb2observer[3:])\n",
    "   \n",
    "    return observer2target\n",
    "\n",
    "    \n",
    "def get_ephemeris(target, utc, location=\"399\", correct_lt=True, correct_stelab=False):\n",
    "    \"\"\"Returns the equatorial ephemeris of a target at a requested time `utc`.\"\"\"\n",
    "    # Allow using \"TESS\" as location string instead of \"-95\"\n",
    "    spice.boddef(\"TESS\", -95)\n",
    "\n",
    "    # Convert the time stamp to the Spice format (ephemeris seconds past J2000)\n",
    "    kernels = [\"naif0012.tls\"]\n",
    "    spice.furnsh(kernels)\n",
    "    et = spice.str2et(utc)\n",
    "\n",
    "    # Obtain the orbital elements of the target in the Spice format\n",
    "    elements = target.to_spice()\n",
    "\n",
    "    # Compute the XYZ vector from observer to target\n",
    "    vector = get_viewing_vector(elements,\n",
    "                                et,\n",
    "                                location=location,\n",
    "                                correct_lt=correct_lt,\n",
    "                                correct_stelab=correct_stelab)\n",
    "    \n",
    "    # Transform the viewing vector from ecliptic XYZ coordinates\n",
    "    # into spherical Earth equatorial coordinates\n",
    "    xform = spice.sxform(\"ECLIPJ2000\", \"J2000\", et)\n",
    "    vector_icrf = spice.mxvg(xform, vector, 6, 6)\n",
    "    dist, ra_radians, dec_radians = spice.recrad(vector_icrf[:3])\n",
    "\n",
    "    return SkyCoord(ra_radians*u.rad, dec_radians*u.rad)"
   ]
  },
  {
   "cell_type": "markdown",
   "metadata": {},
   "source": [
    "**Example use:**"
   ]
  },
  {
   "cell_type": "code",
   "execution_count": 4,
   "metadata": {},
   "outputs": [
    {
     "data": {
      "text/plain": [
       "<SkyCoord (ICRS): (ra, dec) in deg\n",
       "    (289.01780341, -26.28014981)>"
      ]
     },
     "execution_count": 4,
     "metadata": {},
     "output_type": "execute_result"
    }
   ],
   "source": [
    "crd_spice = get_ephemeris(targ, utc=epoch.iso, location=\"TESS\")\n",
    "crd_spice"
   ]
  },
  {
   "cell_type": "markdown",
   "metadata": {},
   "source": [
    "## Step 3a: Verification for coeval orbital elements\n",
    "\n",
    "Let's compare our prediction against the ephemeris produced by JPL Horizons:"
   ]
  },
  {
   "cell_type": "code",
   "execution_count": 5,
   "metadata": {},
   "outputs": [
    {
     "data": {
      "text/plain": [
       "<SkyCoord (ICRS): (ra, dec) in deg\n",
       "    [(289.01782, -26.28014)]>"
      ]
     },
     "execution_count": 5,
     "metadata": {},
     "output_type": "execute_result"
    }
   ],
   "source": [
    "# Load ephemeris directly from Horizons\n",
    "jpl = Horizons(id=\"Ceres\", epochs=epoch.jd, location=\"@TESS\").ephemerides(quantities=1)\n",
    "crd_horizons = SkyCoord(jpl['RA'], jpl['DEC'])\n",
    "crd_horizons"
   ]
  },
  {
   "cell_type": "code",
   "execution_count": 6,
   "metadata": {},
   "outputs": [
    {
     "data": {
      "text/latex": [
       "[$0^\\circ00{}^\\prime00.0642{}^{\\prime\\prime}$]"
      ],
      "text/plain": [
       "<Angle [1.78230997e-05] deg>"
      ]
     },
     "execution_count": 6,
     "metadata": {},
     "output_type": "execute_result"
    }
   ],
   "source": [
    "# Compare the offset between our ephemeris and that produced by Horizons\n",
    "crd_spice.separation(crd_horizons)"
   ]
  },
  {
   "cell_type": "markdown",
   "metadata": {},
   "source": [
    "Success! Our result match within 0.1 arcsecond!"
   ]
  },
  {
   "cell_type": "markdown",
   "metadata": {},
   "source": [
    "## Step 3b: Verification for non-coeval orbital elements\n",
    "\n",
    "Now, let's repeat this verification using orbital elements that were requested for a different reference epoch:"
   ]
  },
  {
   "cell_type": "code",
   "execution_count": 7,
   "metadata": {},
   "outputs": [
    {
     "data": {
      "text/plain": [
       "Target(name='Ceres', e=<Quantity 0.07576353>, a=<Quantity 2.76798982 AU>, incl=<Quantity 10.59380341 deg>, node=<Quantity 80.30651591 deg>, peri=<Quantity 73.33800644 deg>, m=<Quantity 52.50419682 deg>, epoch=<Quantity 2458483. d>)"
      ]
     },
     "execution_count": 7,
     "metadata": {},
     "output_type": "execute_result"
    }
   ],
   "source": [
    "targ = Target.from_horizons(\"Ceres\", epoch=epoch - 365)\n",
    "targ"
   ]
  },
  {
   "cell_type": "code",
   "execution_count": 8,
   "metadata": {},
   "outputs": [
    {
     "data": {
      "text/plain": [
       "<SkyCoord (ICRS): (ra, dec) in deg\n",
       "    (289.02676926, -26.28030433)>"
      ]
     },
     "execution_count": 8,
     "metadata": {},
     "output_type": "execute_result"
    }
   ],
   "source": [
    "crd_spice = get_ephemeris(targ, utc=epoch.iso, location=\"TESS\")\n",
    "crd_spice"
   ]
  },
  {
   "cell_type": "code",
   "execution_count": 9,
   "metadata": {},
   "outputs": [
    {
     "data": {
      "text/latex": [
       "[$0^\\circ00{}^\\prime28.8934{}^{\\prime\\prime}$]"
      ],
      "text/plain": [
       "<Angle [0.00802594] deg>"
      ]
     },
     "execution_count": 9,
     "metadata": {},
     "output_type": "execute_result"
    }
   ],
   "source": [
    "crd_spice.separation(crd_horizons)"
   ]
  },
  {
   "cell_type": "markdown",
   "metadata": {},
   "source": [
    "Oops, the ephemeris is now inconsistent by 28 arcseconds.  This is because Spice only applied 2-body propagation to infer the position of the asteroid from the non-coeval orbital elements.  In contrast, Horizons applied N-body propagation."
   ]
  }
 ],
 "metadata": {
  "kernelspec": {
   "display_name": "Python 3",
   "language": "python",
   "name": "python3"
  },
  "language_info": {
   "codemirror_mode": {
    "name": "ipython",
    "version": 3
   },
   "file_extension": ".py",
   "mimetype": "text/x-python",
   "name": "python",
   "nbconvert_exporter": "python",
   "pygments_lexer": "ipython3",
   "version": "3.8.5"
  }
 },
 "nbformat": 4,
 "nbformat_minor": 4
}
